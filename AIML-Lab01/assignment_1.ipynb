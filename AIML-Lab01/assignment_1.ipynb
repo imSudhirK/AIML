{
  "nbformat": 4,
  "nbformat_minor": 0,
  "metadata": {
    "colab": {
      "name": "assignment_1.ipynb",
      "provenance": [],
      "collapsed_sections": []
    },
    "interpreter": {
      "hash": "e9d3b97f51c73fb030ee137a5b8f49d0f37ab530bc5cbc39aaffde567a81edd4"
    },
    "kernelspec": {
      "display_name": "Python 3",
      "language": "python",
      "name": "python3"
    },
    "language_info": {
      "codemirror_mode": {
        "name": "ipython",
        "version": 3
      },
      "file_extension": ".py",
      "mimetype": "text/x-python",
      "name": "python",
      "nbconvert_exporter": "python",
      "pygments_lexer": "ipython3",
      "version": "3.8.8"
    }
  },
  "cells": [
    {
      "cell_type": "markdown",
      "metadata": {
        "id": "B8gKZpl5me4I"
      },
      "source": [
        "\n",
        "## <font color=red> You should not import any new libraries. Your code should run with python=3.x</font>\n",
        "## <font color=red> Please don't rename this .ipynb file.</font><br>\n",
        "- Your solutions will be auto-graded. Hence we request you to follow the instructions.\n",
        "- Modify the code only between \n",
        "```\n",
        "## TODO\n",
        "## END TODO\n",
        "```\n",
        "- In addition to above changes, you can play with arguments to the functions for generating plots\n",
        "- We will run the auto grading scripts with private test data"
      ]
    },
    {
      "cell_type": "code",
      "metadata": {
        "id": "gnXVhbxMc10V"
      },
      "source": [
        "import math\n",
        "import numpy as np\n",
        "import matplotlib.pyplot as plt\n",
        "import pandas as pd\n",
        "from numpy.linalg import inv # use this function to invert matrices"
      ],
      "execution_count": 33,
      "outputs": []
    },
    {
      "cell_type": "markdown",
      "metadata": {
        "id": "1tzeArL4rODu"
      },
      "source": [
        "## Please make sure that your code works with loading data from relative path only\n",
        "\n",
        "i.e. ```pd.read_csv('./data/single_var_new.csv')``` should not throw an error when we run the auto-grading scripts"
      ]
    },
    {
      "cell_type": "code",
      "metadata": {
        "id": "8dO3U5A1rODu"
      },
      "source": [
        "data_single = pd.read_csv('./data/single_var.csv')\n",
        "X_single = np.array(data_single['x_gt'])\n",
        "Y_single = np.array(data_single['y_gt'])\n",
        "\n",
        "\n",
        "data_multi = pd.read_csv('./data/multi_var.csv')\n",
        "cols = [f\"x_gt_{idx}\" for idx in range(1, 6)]\n",
        "X_multi = np.array(data_multi[cols])\n",
        "Y_multi = np.array(data_multi['y_gt'])\n"
      ],
      "execution_count": 34,
      "outputs": []
    },
    {
      "cell_type": "code",
      "metadata": {
        "id": "sxJj8wlFT0n0"
      },
      "source": [
        "# # print(data_single.head(5))\n",
        "# # print(np.shape(X_single))\n",
        "# # print(np.shape(Y_single))\n",
        "# print(X_single[:5])\n",
        "# print(X_single.shape)\n",
        "# n = X_single.shape[0]\n",
        "# print(n)\n",
        "\n",
        "# # print(data_multi.head(5))\n",
        "# # print(np.shape(X_multi))\n",
        "# # print(np.shape(Y_multi))"
      ],
      "execution_count": null,
      "outputs": []
    },
    {
      "cell_type": "markdown",
      "metadata": {
        "id": "ko_aLCmDdXvZ"
      },
      "source": [
        "## Plot Graphs\n",
        "\n",
        "- This function plots the ground truth curve in <font color=green>green</font> and the predicted function in <font color=red>red</font>"
      ]
    },
    {
      "cell_type": "code",
      "metadata": {
        "id": "xlXKQnMtrODv"
      },
      "source": [
        "def plot_curves(w, b, x, y):\n",
        "  '''\n",
        "  Plots the curves for groud truth function and the fitted function\n",
        "\n",
        "  Args:\n",
        "  w - list of parameters\n",
        "  b - float\n",
        "  x - data features\n",
        "  y - output value\n",
        "  '''\n",
        "\n",
        "  assert type(w) == type([0]), f'Please pass a list of parameters to plot_curves and not {type(w)}'\n",
        "\n",
        "  x_gt = np.linspace(-1, 2, 50)\n",
        "  y_gt = 1 - 3 * x_gt - 2 * x_gt ** 2 + 2.5 * x_gt ** 3\n",
        "\n",
        "  if len(w) == 1:\n",
        "    y_fit = w * x_gt + b\n",
        "  elif len(w) == 5:\n",
        "    x_fit = x_gt\n",
        "    for pow in range(2, 4):\n",
        "      x_fit = np.vstack([x_fit, np.power(x_gt, pow)])\n",
        "    \n",
        "    x_fit = np.vstack([x_fit, np.sin(np.pi * 2 * x_gt)])\n",
        "    x_fit = np.vstack([x_fit, np.cos(np.pi * x_gt)])\n",
        "    y_fit = np.dot(w, x_fit) + b\n",
        "  else:\n",
        "    assert False, 'Pass a valid w'\n",
        "  plt.plot(x_gt, y_gt, color=\"green\", label='1 - 3 * x - 2 * x ** 2 + 2.5 * x ** 3')\n",
        "  plt.plot(x_gt, y_fit, color='red', label=\"Fitted Function y = w.Tx + b\")\n",
        "  if len(x.shape) == 1:\n",
        "    x_plot = np.vstack([x, np.ones(len(x))]).T\n",
        "  else:\n",
        "    x_plot = x\n",
        "  plt.scatter(x_plot[:,0],y)\n",
        "  plt.legend()\n",
        "  plt.title(\"OLS\")\n",
        "  plt.show()"
      ],
      "execution_count": 35,
      "outputs": []
    },
    {
      "cell_type": "markdown",
      "metadata": {
        "id": "2x12RnAoy45s"
      },
      "source": [
        "## Split data into train/validation\n",
        "- make sure that training and validation datasets are disjoint\n",
        "- Split data into train and validation sets such that train contains floor(n_sampes * train_ratio) and test contains the remaining samples"
      ]
    },
    {
      "cell_type": "code",
      "metadata": {
        "id": "wq4DFSUprODw"
      },
      "source": [
        "def split_data(X, Y, train_ratio=0.6):\n",
        "    '''\n",
        "    Split data into train and validation sets such that train\n",
        "    contains floor(n_sampes * train_ratio) and test contains the remaining\n",
        "    samples\n",
        "\n",
        "    Args:\n",
        "    X - numpy array of shape (n_samples, n_features)\n",
        "    Y - numpy array of shape (n_samples, 1)\n",
        "    train_ratio - fraction of samples to be used as training data\n",
        "\n",
        "    Returns:\n",
        "    X_train, Y_train, X_val, Y_val\n",
        "    '''\n",
        "\n",
        "    ## TODO\n",
        "\n",
        "\n",
        "    n_samples = X.shape[0]\n",
        "    S = np.arange(n_samples)\n",
        "    np.random.shuffle(S)\n",
        "    X_ = X[S]\n",
        "    Y_ = Y[S]\n",
        "\n",
        "    dim = X_.ndim\n",
        "    if dim  ==1:\n",
        "      X_ = X_.reshape(-1, 1)\n",
        "\n",
        "    train_size = int(np.floor(n_samples*train_ratio))\n",
        "    X_train = X_[:train_size,:]\n",
        "    Y_train = Y_[:train_size]\n",
        "    X_val = X_[train_size:,:]\n",
        "    Y_val = Y_[train_size:]\n",
        "    \n",
        "    ## END TODO\n",
        "    \n",
        "    return X_train, Y_train, X_val, Y_val\n"
      ],
      "execution_count": 36,
      "outputs": []
    },
    {
      "cell_type": "code",
      "metadata": {
        "id": "G4fBpHjiUthu"
      },
      "source": [
        "# X_st, Y_st, x_sv, y_sv = split_data(X_single, Y_single,)\n",
        "\n",
        "# print(X_st)\n",
        "# print(y_sv)"
      ],
      "execution_count": null,
      "outputs": []
    },
    {
      "cell_type": "markdown",
      "metadata": {
        "id": "6Eh-aXuzrODy"
      },
      "source": [
        "## mse for single variable regression"
      ]
    },
    {
      "cell_type": "code",
      "metadata": {
        "id": "vbLHCBUyrODz"
      },
      "source": [
        "def mse_single_var(X, Y, w, b):\n",
        "    '''\n",
        "    Compute mean squared error between predictions and true y values\n",
        "\n",
        "    Args:\n",
        "    X - numpy array of shape (n_samples, 1)\n",
        "    Y - numpy array of shape (n_samples, 1)\n",
        "    w - a float\n",
        "    b - a float\n",
        "    '''\n",
        "\n",
        "    ## TODO\n",
        "\n",
        "    n_samples = X.shape[0]\n",
        "    mse = np.sum(np.square((X*w +b) -Y))\n",
        "    mse = mse / n_samples    \n",
        "\n",
        "    ## END TODO\n",
        "\n",
        "    return mse"
      ],
      "execution_count": 37,
      "outputs": []
    },
    {
      "cell_type": "code",
      "metadata": {
        "id": "v_mJUW1ccrdr"
      },
      "source": [
        "# X_st, Y_st, x_sv, y_sv = split_data(X_single, Y_single,)\n",
        "# print(mse_single_var(X_st, Y_st, 2, 1 ))\n"
      ],
      "execution_count": null,
      "outputs": []
    },
    {
      "cell_type": "code",
      "metadata": {
        "id": "rYAAHfL7rODz"
      },
      "source": [
        "def mse_multi_var(X, Y, w, b):\n",
        "    '''\n",
        "    Compute mean squared error between predictions and true y values\n",
        "\n",
        "    Args:\n",
        "    X - numpy array of shape (n_samples, 5)\n",
        "    Y - numpy array of shape (n_samples, 1)\n",
        "    w - list of parameters\n",
        "    b - a float\n",
        "    '''\n",
        "\n",
        "    ## TODO\n",
        "\n",
        "    n_samples = X.shape[0]\n",
        "    mse = np.sum(np.square((X @ w + b)- Y))\n",
        "    mse = mse/ n_samples\n",
        "    \n",
        "    ## END TODO\n",
        "\n",
        "    return mse"
      ],
      "execution_count": 38,
      "outputs": []
    },
    {
      "cell_type": "code",
      "metadata": {
        "id": "iptfXr6mdY9F"
      },
      "source": [
        "# X_mt, Y_mt, x_mv, y_mv = split_data(X_multi, Y_multi, 0.6)\n",
        "# print(mse_multi_var(X_mt, Y_mt, np.array([1,2,3,4,5]), 1 ))"
      ],
      "execution_count": null,
      "outputs": []
    },
    {
      "cell_type": "code",
      "metadata": {
        "id": "Opc-jPt8rODz"
      },
      "source": [
        "def mse_regularized(X, Y, w, b, lamda):\n",
        "    '''\n",
        "    Compute mean squared error between predictions and true y values\n",
        "\n",
        "    Args:\n",
        "    X - numpy array of shape (n_samples, 5)\n",
        "    Y - numpy array of shape (n_samples, 1)\n",
        "    w - list of parameters\n",
        "    b - a float\n",
        "    '''\n",
        "\n",
        "    ## TODO\n",
        "\n",
        "    n_samples = X.shape[0]\n",
        "    mse = np.sum(np.square((X @ w + b)- Y))\n",
        "    mse = mse/ n_samples\n",
        "    mse = mse + lamda*(np.sum(np.square(w)))\n",
        "\n",
        "    ## END TODO\n",
        "\n",
        "    return mse"
      ],
      "execution_count": 39,
      "outputs": []
    },
    {
      "cell_type": "code",
      "metadata": {
        "id": "wYFnt9j5lMyO"
      },
      "source": [
        "# X_mt, Y_mt, x_mv, y_mv = split_data(X_multi, Y_multi, 0.6)\n",
        "# print(mse_regularized(X_mt, Y_mt, np.array([1,2,3,4,5]), 1, 0.01 ))"
      ],
      "execution_count": null,
      "outputs": []
    },
    {
      "cell_type": "markdown",
      "metadata": {
        "id": "PyeQbbkjdE6v"
      },
      "source": [
        "# Single Variable Regression"
      ]
    },
    {
      "cell_type": "code",
      "metadata": {
        "id": "Ws8XUJXJrOD0"
      },
      "source": [
        "def singlevar_grad(X_train, Y_train, X_val, Y_val, epochs=100, lr=1e-3):\n",
        "    '''\n",
        "    Perform single variable least squares regression using gradient descent\n",
        "\n",
        "    Args:\n",
        "    X_train - numpy array of shape (n_samples_train, 1)\n",
        "    Y_train - numpy array of shape (n_samples_train, 1)\n",
        "    X_val - numpy array of shape (n_samples_val, 1)\n",
        "    Y_val - numpy array of shape (n_samples_val, 1)\n",
        "    epochs - number of gradient descent steps\n",
        "    lr - learnig rate\n",
        "    '''\n",
        "\n",
        "    # Initialize the parameters with 0\n",
        "    w = 0\n",
        "    b = 0\n",
        "\n",
        "    ## TODO\n",
        "\n",
        "    n_samples_train = X_train.shape[0]\n",
        "\n",
        "    for i in range(epochs):\n",
        "      err_train = (X_train*w + b) - Y_train\n",
        "\n",
        "      del_mse_w = 2*(np.sum(err_train.T @ X_train))/n_samples_train\n",
        "      w = w - lr*(del_mse_w)\n",
        "\n",
        "      del_mse_b = 2*(np.sum(err_train))/n_samples_train\n",
        "      b = b - lr*del_mse_b\n",
        "\n",
        "        \n",
        "    ## END TODO\n",
        "\n",
        "\n",
        "    mse_train = mse_single_var(X_train, Y_train, w, b)\n",
        "    mse_val = mse_single_var(X_val, Y_val, w, b)\n",
        "    print(f'Validation loss is {mse_val}')\n",
        "    print(f'Training Loss loss is {mse_train}')\n",
        "    plot_curves([w], b, X_train, Y_train)\n",
        "    return w, b\n",
        "\n",
        "\n",
        "def singlevar_closedform(X_train, Y_train, X_val, Y_val):\n",
        "    '''\n",
        "    Perform single variable least squares regression using closed form update \n",
        "    rules\n",
        "\n",
        "    Args:\n",
        "    X_train - numpy array of shape (n_samples_train, 1)\n",
        "    Y_train - numpy array of shape (n_samples_train, 1)\n",
        "    X_val - numpy array of shape (n_samples_val, 1)\n",
        "    Y_val - numpy array of shape (n_samples_val, 1)\n",
        "    '''\n",
        "\n",
        "    w = 0\n",
        "    b = 0\n",
        "\n",
        "    ## TODO\n",
        "\n",
        "    ones_mat = np.ones(X_train.shape[0], float)\n",
        "    X_ones  = np.append(X_train, ones_mat.reshape(-1, 1), axis = 1)\n",
        "    xo_T_xo = X_ones.T @ X_ones\n",
        "    xo_T_Y  = X_ones.T @ Y_train\n",
        "    w_b = (np.linalg.inv(xo_T_xo)) @ xo_T_Y\n",
        "\n",
        "    w  = w_b.item(0)\n",
        "    b = w_b.item(1)\n",
        "\n",
        "    \n",
        "    ## END TODO\n",
        "\n",
        "\n",
        "    mse_train = mse_single_var(X_train, Y_train, w, b)\n",
        "    mse_val = mse_single_var(X_val, Y_val, w, b)\n",
        "    print(f'Validation loss is {mse_val}')\n",
        "    print(f'Training Loss loss is {mse_train}')\n",
        "    plot_curves([w], b, X_train, Y_train)\n",
        "    return w, b"
      ],
      "execution_count": 40,
      "outputs": []
    },
    {
      "cell_type": "code",
      "metadata": {
        "colab": {
          "base_uri": "https://localhost:8080/",
          "height": 651
        },
        "id": "gD47NfTcrqed",
        "outputId": "500d2874-754f-4654-e857-8d517ce3b184"
      },
      "source": [
        "X_train, Y_train, X_val, Y_val = split_data(X_single, Y_single, train_ratio=0.6)\n",
        "\n",
        "singlevar_grad(X_train, Y_train, X_val, Y_val)\n",
        "\n",
        "print('----'*30)\n",
        "\n",
        "singlevar_closedform(X_train, Y_train, X_val, Y_val)"
      ],
      "execution_count": 41,
      "outputs": [
        {
          "output_type": "stream",
          "text": [
            "Validation loss is 43.48067001797228\n",
            "Training Loss loss is 54.11334720180416\n"
          ],
          "name": "stdout"
        },
        {
          "output_type": "display_data",
          "data": {
            "image/png": "[encoded data removed]",
            "text/plain": [
              "<Figure size 432x288 with 1 Axes>"
            ]
          },
          "metadata": {
            "needs_background": "light"
          }
        },
        {
          "output_type": "stream",
          "text": [
            "------------------------------------------------------------------------------------------------------------------------\n",
            "Validation loss is 47.62128766287431\n",
            "Training Loss loss is 59.33584810432449\n"
          ],
          "name": "stdout"
        },
        {
          "output_type": "display_data",
          "data": {
            "image/png": "[encoded data removed]",
            "text/plain": [
              "<Figure size 432x288 with 1 Axes>"
            ]
          },
          "metadata": {
            "needs_background": "light"
          }
        },
        {
          "output_type": "execute_result",
          "data": {
            "text/plain": [
              "(-0.47553292891332904, -0.12556269685813895)"
            ]
          },
          "metadata": {},
          "execution_count": 41
        }
      ]
    },
    {
      "cell_type": "code",
      "metadata": {
        "id": "ZvPoQgbx_sBU"
      },
      "source": [
        "# X_train, Y_train, X_val, Y_val = split_data(X_single, Y_single, train_ratio=0.6)\n",
        "\n",
        "# w1,b1 = singlevar_grad(X_train, Y_train, X_val, Y_val)\n",
        "# print(w1)\n",
        "# print(b1)\n",
        "\n",
        "# w2, b2 = singlevar_closedform(X_train, Y_train, X_val, Y_val)\n",
        "# print(w2)\n",
        "# print(b2)"
      ],
      "execution_count": null,
      "outputs": []
    },
    {
      "cell_type": "markdown",
      "metadata": {
        "id": "sWCVK4LtdJVM"
      },
      "source": [
        "# Multi Variable Regression\n"
      ]
    },
    {
      "cell_type": "code",
      "metadata": {
        "id": "DAQpmHPurOD1"
      },
      "source": [
        "def multivar_grad(X_train, Y_train, X_val, Y_val, epochs=100, lr=1e-3):\n",
        "    '''\n",
        "    Perform multi variable least squares regression using gradient descent\n",
        "\n",
        "    Args:\n",
        "    X_train - numpy array of shape (n_samples_train, 5)\n",
        "    Y_train - numpy array of shape (n_samples_train, 1)\n",
        "    X_val - numpy array of shape (n_samples_val, 5)\n",
        "    Y_val - numpy array of shape (n_samples_val, 1)\n",
        "    epochs - number of gradient descent steps\n",
        "    lr - learnig rate\n",
        "    '''\n",
        "\n",
        "    w = [0.0] * X_train.shape[1]\n",
        "    b = 0\n",
        "\n",
        "    ## TODO\n",
        "\n",
        "    n_samples_train = X_train.shape[0]\n",
        "\n",
        "    for i in range(epochs):\n",
        "      err_train = (X_train @ w + b) - Y_train\n",
        "\n",
        "      del_mse_w = 2*( X_train.T @ err_train)/n_samples_train\n",
        "      w = w - lr*del_mse_w\n",
        "\n",
        "      del_mse_b = 2*(np.sum(err_train))/n_samples_train\n",
        "      b = b- lr*del_mse_b\n",
        "\n",
        "\n",
        "    ### END TODO\n",
        "    \n",
        "    mse_train = mse_multi_var(X_train, Y_train, w, b)\n",
        "    mse_val = mse_multi_var(X_val, Y_val, w, b)\n",
        "    print(f'Validation loss if {mse_val}')\n",
        "    print(f'Training Loss loss if {mse_train}')\n",
        "    plot_curves(list(w), b, X_train, Y_train)\n",
        "    return w, b\n",
        "\n",
        "\n",
        "\n",
        "def multivar_closedform(X_train, Y_train, X_val, Y_val):\n",
        "    '''\n",
        "    Perform multi variable least squares regression using closed form \n",
        "    updates\n",
        "\n",
        "    Args:\n",
        "    X_train - numpy array of shape (n_samples_train, 5)\n",
        "    Y_train - numpy array of shape (n_samples_train, 1)\n",
        "    X_val - numpy array of shape (n_samples_val, 5)\n",
        "    Y_val - numpy array of shape (n_samples_val, 1)\n",
        "    '''\n",
        "\n",
        "    w = [0.0] * X_train.shape[1]\n",
        "    b = 0\n",
        "\n",
        "    ## TODO\n",
        "\n",
        "    X_mean = X_train.mean(axis= 0, keepdims= True)\n",
        "    X_req  = X_train - X_mean\n",
        "    xr_T_xr = X_req.T @ X_req\n",
        "    xr_T_Y = X_req.T @ Y_train\n",
        "    w = (np.linalg.inv(xr_T_xr)) @ xr_T_Y\n",
        "    b_mat = Y_train - X_train @ w\n",
        "    b = np.mean(b_mat)\n",
        "    \n",
        "\n",
        "    ## END TODO\n",
        "\n",
        "    mse_train = mse_multi_var(X_train, Y_train, w, b)\n",
        "    mse_val = mse_multi_var(X_val, Y_val, w, b)\n",
        "    print(f'Validation loss if {mse_val}')\n",
        "    print(f'Training Loss loss if {mse_train}')\n",
        "    plot_curves(list(w), b, X_train, Y_train)\n",
        "    return w, b"
      ],
      "execution_count": 42,
      "outputs": []
    },
    {
      "cell_type": "code",
      "metadata": {
        "id": "z2yWJ34ou_aF",
        "colab": {
          "base_uri": "https://localhost:8080/",
          "height": 633
        },
        "outputId": "cdc0ba42-b7d1-40e8-a27f-4a7250dfb1c4"
      },
      "source": [
        "X_train, Y_train, X_test, Y_test = split_data(X_multi, Y_multi)\n",
        "\n",
        "w, b = multivar_grad(X_train, Y_train, X_test, Y_test)\n",
        "\n",
        "print('----' * 30)\n",
        "\n",
        "w, b = multivar_closedform(X_train, Y_train, X_test, Y_test)"
      ],
      "execution_count": 43,
      "outputs": [
        {
          "output_type": "stream",
          "text": [
            "Validation loss if 1.5041009286006755\n",
            "Training Loss loss if 1.8926504210654087\n"
          ],
          "name": "stdout"
        },
        {
          "output_type": "display_data",
          "data": {
            "image/png": "[encoded data removed]",
            "text/plain": [
              "<Figure size 432x288 with 1 Axes>"
            ]
          },
          "metadata": {
            "needs_background": "light"
          }
        },
        {
          "output_type": "stream",
          "text": [
            "------------------------------------------------------------------------------------------------------------------------\n",
            "Validation loss if 0.6398869058548171\n",
            "Training Loss loss if 0.6113083393410267\n"
          ],
          "name": "stdout"
        },
        {
          "output_type": "display_data",
          "data": {
            "image/png": "[encoded data removed]",
            "text/plain": [
              "<Figure size 432x288 with 1 Axes>"
            ]
          },
          "metadata": {
            "needs_background": "light"
          }
        }
      ]
    },
    {
      "cell_type": "markdown",
      "metadata": {
        "id": "0sVpDgGodOHX"
      },
      "source": [
        "# Regularization"
      ]
    },
    {
      "cell_type": "code",
      "metadata": {
        "id": "q_URsKIPdTXu"
      },
      "source": [
        "\n",
        "def multivar_reg_grad(X_train, Y_train, X_val, Y_val, epochs=100, lr=1e-3, lamda = 1):\n",
        "    '''\n",
        "    Perform L2 regularized multi variable least squares regression using gradient descent\n",
        "\n",
        "    Args:\n",
        "    X_train - numpy array of shape (n_samples_train, 5)\n",
        "    Y_train - numpy array of shape (n_samples_train, 1)\n",
        "    X_val - numpy array of shape (n_samples_val, 5)\n",
        "    Y_val - numpy array of shape (n_samples_val, 1)\n",
        "    epochs - number of gradient descent steps\n",
        "    lr - learnig rate\n",
        "    lamda - regularization weight\n",
        "    '''\n",
        "\n",
        "    w = [0.0] * X_train.shape[1]\n",
        "    b = 0\n",
        "\n",
        "    ## TODO\n",
        "\n",
        "    n_samples_train = X_train.shape[0]\n",
        "\n",
        "    for i in range(epochs):\n",
        "      err_train = (X_train @ w + b) - Y_train\n",
        "\n",
        "      del_mse_w = 2*( (X_train.T @ err_train)/n_samples_train + lamda*w) \n",
        "      w = w - lr*del_mse_w\n",
        "\n",
        "      del_mse_b = 2*(np.sum(err_train))/n_samples_train\n",
        "      b = b- lr*del_mse_b\n",
        "\n",
        "\n",
        "    \n",
        "\n",
        "    ## END TODO\n",
        "\n",
        "    mse_train = mse_multi_var(X_train, Y_train, w, b)\n",
        "    mse_val = mse_multi_var(X_val, Y_val, w, b)\n",
        "    print(f'Validation loss if {mse_val}')\n",
        "    print(f'Training Loss loss if {mse_train}')\n",
        "    plot_curves(list(w), b, X_train, Y_train)\n",
        "    return w, b\n",
        "\n",
        "\n",
        "def multivar_reg_closedform(X_train, Y_train, X_val, Y_val, lamda=0.5):\n",
        "    '''\n",
        "    Perform L2 regularized multi variable least squares regression using \n",
        "    closed form update rules\n",
        "\n",
        "    Args:\n",
        "    X_train - numpy array of shape (n_samples_train, 5)\n",
        "    Y_train - numpy array of shape (n_samples_train, 1)\n",
        "    X_val - numpy array of shape (n_samples_val, 5)\n",
        "    Y_val - numpy array of shape (n_samples_val, 1)\n",
        "    lambda - regularization weight\n",
        "    '''\n",
        "\n",
        "    w = [0.0] * X_train.shape[1]\n",
        "    b = 0\n",
        "\n",
        "    ## TODO\n",
        "\n",
        "    n_samples_train = X_train.shape[0]\n",
        "\n",
        "    X_mean = X_train.mean(axis= 0, keepdims= True)\n",
        "    X_req  = X_train - X_mean\n",
        "    i_mat = np.identity(X_train.shape[1], float)\n",
        "    xr_T_xr_lI = X_req.T @ X_req + n_samples_train*lamda*i_mat\n",
        "    xr_T_Y = X_req.T @ Y_train\n",
        "    w = (np.linalg.inv(xr_T_xr_lI)) @ xr_T_Y\n",
        "    b_mat = Y_train - X_train @ w\n",
        "    b = np.mean(b_mat)\n",
        "      \n",
        "\n",
        "\n",
        "    ## END TODO\n",
        "\n",
        "    mse_train = mse_multi_var(X_train, Y_train, w, b)\n",
        "    mse_val = mse_multi_var(X_val, Y_val, w, b)\n",
        "    print(f'Validation loss if {mse_val}')\n",
        "    print(f'Training Loss loss if {mse_train}')\n",
        "    plot_curves(list(w), b, X_train, Y_train)\n",
        "    return w, b\n"
      ],
      "execution_count": 44,
      "outputs": []
    },
    {
      "cell_type": "code",
      "metadata": {
        "id": "UxQ47oThrOD2",
        "colab": {
          "base_uri": "https://localhost:8080/",
          "height": 633
        },
        "outputId": "74b6e202-63ed-416d-98d1-fa06d70a8aa3"
      },
      "source": [
        "X_train, Y_train, X_val, Y_val = split_data(X_multi, Y_multi, train_ratio=0.6)\n",
        "\n",
        "w, b = multivar_reg_grad(X_train, Y_train, X_val, Y_val)\n",
        "\n",
        "print('----' * 30)\n",
        "\n",
        "w, b = multivar_reg_closedform(X_train, Y_train, X_val, Y_val)"
      ],
      "execution_count": 45,
      "outputs": [
        {
          "output_type": "stream",
          "text": [
            "Validation loss if 3.179797384189275\n",
            "Training Loss loss if 0.9774312541480127\n"
          ],
          "name": "stdout"
        },
        {
          "output_type": "display_data",
          "data": {
            "image/png": "[encoded data removed]",
            "text/plain": [
              "<Figure size 432x288 with 1 Axes>"
            ]
          },
          "metadata": {
            "needs_background": "light"
          }
        },
        {
          "output_type": "stream",
          "text": [
            "------------------------------------------------------------------------------------------------------------------------\n",
            "Validation loss if 2.731194858436746\n",
            "Training Loss loss if 0.7785055727132643\n"
          ],
          "name": "stdout"
        },
        {
          "output_type": "display_data",
          "data": {
            "image/png": "[encoded data removed]",
            "text/plain": [
              "<Figure size 432x288 with 1 Axes>"
            ]
          },
          "metadata": {
            "needs_background": "light"
          }
        }
      ]
    },
    {
      "cell_type": "markdown",
      "metadata": {
        "id": "SdZdA6K5dUGQ"
      },
      "source": [
        "# Bayesian Linear Regression\n",
        "\n",
        "As we studied in class, in Bayesian approach, we model the parameters of the model as a Random variable. \n",
        "\n",
        "We assume a (conjugate) prior distribution over the parameters ($p(w)$) and update  the posterior $p(w | D)$ based on the obervations.\n",
        "\n",
        "In this assignment, we will assume that parameters are sampled from Gaussian distribution and try to learn the mean and variance of posterior.\n",
        "\n",
        "Following the above discussion,\n",
        "\n",
        "- let prior $p(w) = \\mathcal{N}(\\mu_0, \\sum_0) = \\mathcal{N}(0, 0.5)$\n",
        "- We know that $p(w | \\mathcal{D}) \\propto p(w) P(\\mathcal{D} | w)$\n",
        "- Then, $p(w | \\mathcal{D}) = \\mathcal{N}(\\mu_N, \\sum_N)$\n",
        "- And $p(\\mathcal{D} | w) = \\mathcal{N}(y| w^Tx, \\sigma^2I)$\n",
        "\n",
        "For this assignment, feel free to play with various values of $\\sigma^2$ that gives you a better fit.\n",
        "\n",
        "Finally the posterior parameters are given by, <br>\n",
        "$\\mu_N = \\sum_N (\\sum_0^{-1} \\mu_0 + \\frac{1}{\\sigma^2}X^Ty)$ <br>\n",
        "$\\sum_N = (\\sum_0^{-1} + \\frac{1}{\\sigma^2}X^TX)^{-1}$\n",
        "\n",
        "\n",
        "### Learning Bias b\n",
        "Eventhough the above formula shows how to compute $w$, we expect you to learn the bias $b$ also.\n",
        "\n",
        "<font color='blue'> Hint: You can append a constant $1$ to all the input features $x$. Thus making the data $X \\in \\mathcal{R}^{d+1}$. </font>"
      ]
    },
    {
      "cell_type": "code",
      "metadata": {
        "id": "ae2W0mYFdWRA"
      },
      "source": [
        "def bayesion_lr(X_train, Y_train, X_val, Y_val):\n",
        "    '''\n",
        "    Perform Bayesian Linear Regression\n",
        "\n",
        "    Args:\n",
        "    X_train - numpy array of shape (n_samples_train, 5)\n",
        "    Y_train - numpy array of shape (n_samples_train, 1)\n",
        "    X_val - numpy array of shape (n_samples_val, 5)\n",
        "    Y_val - numpy array of shape (n_samples_val, 1)\n",
        "    '''\n",
        "\n",
        "    ## TODO\n",
        "\n",
        "\n",
        "    sgma0 = float(0.5)\n",
        "    mu0 = float(0.0)\n",
        "    sgma = float(0.4)\n",
        "\n",
        "    ones_mat = np.ones(X_train.shape[0], float)\n",
        "    X_ones = np.append(X_train, ones_mat.reshape(-1,1), axis = 1)\n",
        "\n",
        "    xo_T_xo = X_ones.T @ X_ones\n",
        "    sgma_inv = (1.0/sgma0) + (xo_T_xo/(sgma**2))\n",
        "    sgma_n = np.linalg.inv(sgma_inv)\n",
        "\n",
        "    mu_ex = (mu0/sgma0) + (X_ones.T @ Y_train)/(sgma**2)\n",
        "    mu_n = sgma_n @ mu_ex\n",
        "\n",
        "    mu_size = (mu_n.shape[0])-1 \n",
        "    w = mu_n[:mu_size]\n",
        "    # w = w.reshape(1, -1)\n",
        "    b = mu_n.item(mu_size)\n",
        "\n",
        "\n",
        "    \n",
        "    ## END TODO\n",
        "\n",
        "    plot_curves(w.tolist(), b, X_train, Y_train)\n",
        "    return w, b"
      ],
      "execution_count": 46,
      "outputs": []
    },
    {
      "cell_type": "code",
      "metadata": {
        "id": "F0BBbibAMKkv"
      },
      "source": [
        "# w = np.array([1,2,3,4]).reshape(1,-1)\n",
        "# print(w.shape)\n",
        "# print(list(w))\n",
        "# print(w)"
      ],
      "execution_count": null,
      "outputs": []
    },
    {
      "cell_type": "code",
      "metadata": {
        "id": "zByymfSePAsM",
        "colab": {
          "base_uri": "https://localhost:8080/",
          "height": 316
        },
        "outputId": "017021b4-e2e5-4612-e113-9cf1cf9eac9d"
      },
      "source": [
        "X_train, Y_train, X_val, Y_val = split_data(X_multi, Y_multi, train_ratio=0.6)\n",
        "\n",
        "bayesion_lr(X_train, Y_train, X_val, Y_val)\n"
      ],
      "execution_count": 47,
      "outputs": [
        {
          "output_type": "display_data",
          "data": {
            "image/png": "[encoded data removed]",
            "text/plain": [
              "<Figure size 432x288 with 1 Axes>"
            ]
          },
          "metadata": {
            "needs_background": "light"
          }
        },
        {
          "output_type": "execute_result",
          "data": {
            "text/plain": [
              "(array([-2.48382708, -2.10440663,  2.22605636,  0.03734681,  0.2090716 ]),\n",
              " 0.9598876838622452)"
            ]
          },
          "metadata": {},
          "execution_count": 47
        }
      ]
    }
  ]
}