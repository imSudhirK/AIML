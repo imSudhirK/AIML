{
  "nbformat": 4,
  "nbformat_minor": 0,
  "metadata": {
    "colab": {
      "name": "Assignment_2.ipynb",
      "provenance": [],
      "collapsed_sections": [
        "GW18MExyoByK",
        "g7zKGgQgoPnA",
        "UyT4gundogZ5",
        "jF5le-PSpHyI",
        "tquhPbDFVo5J"
      ]
    },
    "kernelspec": {
      "name": "python3",
      "display_name": "Python 3"
    },
    "language_info": {
      "name": "python"
    }
  },
  "cells": [
    {
      "cell_type": "markdown",
      "metadata": {
        "id": "GW18MExyoByK"
      },
      "source": [
        "## <font color=red> You should not import any new libraries. Your code should run with python=3.x</font>\n",
        "## <font color=red> Please don't rename this .ipynb file.</font><br>\n",
        "- Your solutions will be auto-graded. Hence we request you to follow the instructions.\n",
        "- Modify the code only between \n",
        "```\n",
        "## TODO\n",
        "## END TODO\n",
        "```\n",
        "- In addition to above changes, you can play with arguments to the functions for generating plots\n",
        "- We will run the auto grading scripts with private test data"
      ]
    },
    {
      "cell_type": "code",
      "metadata": {
        "id": "aCSR1aBfmVPu"
      },
      "source": [
        "import math\n",
        "import numpy as np\n",
        "import matplotlib.pyplot as plt\n",
        "import pandas as pd\n",
        "from sklearn import preprocessing\n",
        "from scipy import linalg"
      ],
      "execution_count": 1,
      "outputs": []
    },
    {
      "cell_type": "markdown",
      "metadata": {
        "id": "g7zKGgQgoPnA"
      },
      "source": [
        "## Please make sure that your code works with loading data from relative path only\n",
        "\n",
        "i.e. ```pd.read_csv('./data/multi_var_lasso.csv')``` should not throw an error when we run the auto-grading scripts"
      ]
    },
    {
      "cell_type": "code",
      "metadata": {
        "id": "xU2CdrwCoQQv"
      },
      "source": [
        "data_multi = pd.read_csv('./data/multi_var_lasso.csv')\n",
        "cols = [f\"x_gt_{idx}\" for idx in range(1, 6)]\n",
        "X_multi = np.array(data_multi[cols])\n",
        "Y_multi = np.array(data_multi['y_gt'])"
      ],
      "execution_count": 2,
      "outputs": []
    },
    {
      "cell_type": "code",
      "metadata": {
        "id": "j_YZg7Z7g3fl"
      },
      "source": [
        "data_multi_class = pd.read_csv('./data/3_class_perceptron.csv')\n",
        "cols = [f\"x_gt_{idx}\" for idx in range(1, 3)]\n",
        "X_multi_class = np.array(data_multi_class[cols])\n",
        "Y_multi_class = np.array(data_multi_class['y_gt'])"
      ],
      "execution_count": 3,
      "outputs": []
    },
    {
      "cell_type": "code",
      "metadata": {
        "id": "0DaZIrqza4oc"
      },
      "source": [
        "def mse_multi_var(X, Y, w, b):\n",
        "    '''\n",
        "    Compute mean squared error between predictions and true y values\n",
        "\n",
        "    Args:\n",
        "    X - numpy array of shape (n_samples, 1)\n",
        "    Y - numpy array of shape (n_samples, 1)\n",
        "    w - a float\n",
        "    b - a float\n",
        "    '''\n",
        "\n",
        "    ## TODO\n",
        "\n",
        "    n_samples = X.shape[0]\n",
        "    mse = np.sum(np.square((X @ w + b)- Y))\n",
        "    mse = mse/ n_samples\n",
        "    \n",
        "    ## END TODO\n",
        "\n",
        "    return mse"
      ],
      "execution_count": 4,
      "outputs": []
    },
    {
      "cell_type": "code",
      "metadata": {
        "id": "B6AFlQQWoxSh"
      },
      "source": [
        "def mse_regularized(X, Y, w, b, lamda):\n",
        "    '''\n",
        "    Compute mean squared error between predictions and true y values\n",
        "\n",
        "    Args:\n",
        "    X - numpy array of shape (n_samples, 1)\n",
        "    Y - numpy array of shape (n_samples, 1)\n",
        "    w - a float\n",
        "    b - a float\n",
        "    '''\n",
        "    ## TODO\n",
        "    \n",
        "    n_samples = X.shape[0]\n",
        "    mse = np.sum(np.square((X @ w + b)- Y))\n",
        "    mse = mse/ n_samples\n",
        "    mse = mse + lamda*(np.sum(np.absolute(w)))\n",
        "\n",
        "    ## END TODO\n",
        "\n",
        "    return mse"
      ],
      "execution_count": 5,
      "outputs": []
    },
    {
      "cell_type": "markdown",
      "metadata": {
        "id": "UyT4gundogZ5"
      },
      "source": [
        "## Plot Graphs\n",
        "\n",
        "- This function plots the ground truth curve in <font color=green>green</font> and the predicted function in <font color=red>red</font>"
      ]
    },
    {
      "cell_type": "code",
      "metadata": {
        "id": "weGoGCzJodzM"
      },
      "source": [
        "def plot_curves(w, b, x, y):\n",
        "  x_gt = np.linspace(-1, 2, 50)\n",
        "  y_gt = 1 - 3 * x_gt - 2 * x_gt ** 2 + 2.5 * x_gt ** 3\n",
        "  # print(x_gt.shape,y_gt.shape)\n",
        "  if len(w) == 1:\n",
        "    y_fit = w * x_gt + b\n",
        "  elif len(w) == 5:\n",
        "    x_fit = x_gt\n",
        "    for pow in range(2, 4):\n",
        "      x_fit = np.vstack([x_fit, np.power(x_gt, pow)])\n",
        "\n",
        "    x_fit = np.vstack([x_fit, np.power(x_gt, 2)])\n",
        "    x_fit = np.vstack([x_fit, np.power(x_gt, 1)])\n",
        "    \n",
        "    y_fit = np.dot(w, x_fit) + b\n",
        "  else:\n",
        "    assert False, 'Pass a valid w'\n",
        "  plt.plot(x_gt, y_gt, color=\"green\", label='1 - 3 * x - 2 * x ** 2 + 2.5 * x ** 3')\n",
        "  plt.plot(x_gt, y_fit, color='red', label=\"Fitted Function y = w.Tx + b\")\n",
        "  if len(x.shape) == 1:\n",
        "    x_plot = np.vstack([x, np.ones(len(x))]).T\n",
        "    # print (x_plot.shape, y.shape)\n",
        "  else:\n",
        "    x_plot = x\n",
        "  plt.scatter(x_plot[:,0],y)\n",
        "  plt.legend()\n",
        "  plt.title(\"Ground Truth Function\")\n",
        "  plt.show()"
      ],
      "execution_count": 6,
      "outputs": []
    },
    {
      "cell_type": "code",
      "metadata": {
        "id": "-oAg-WHfo_j-"
      },
      "source": [
        "def split_data(X, Y, train_ratio=0.6):\n",
        "    '''\n",
        "    Split data into train and validation sets\n",
        "    The first floor(train_ratio*n_sample) samples form the train set\n",
        "    and the remaining the test set\n",
        "\n",
        "    Args:\n",
        "    X - numpy array of shape (n_samples, n_features)\n",
        "    Y - numpy array of shape (n_samples, 1)\n",
        "    train_ratio - fraction of samples to be used as training data\n",
        "\n",
        "    Returns:\n",
        "    X_train, Y_train, X_val, Y_val\n",
        "    '''\n",
        "    ## TODO\n",
        "    n_samples = X.shape[0]\n",
        "    S = np.arange(n_samples)\n",
        "    np.random.shuffle(S)\n",
        "    X_ = X[S]\n",
        "    Y_ = Y[S]\n",
        "\n",
        "    dim = X_.ndim\n",
        "    if dim  ==1:\n",
        "      X_ = X_.reshape(-1, 1)\n",
        "\n",
        "    train_size = int(np.floor(n_samples*train_ratio))\n",
        "    X_train = X_[:train_size,:]\n",
        "    Y_train = Y_[:train_size]\n",
        "    X_val = X_[train_size:,:]\n",
        "    Y_val = Y_[train_size:]\n",
        "    \n",
        "    ## END TODO\n",
        "\n",
        "    return X_train, Y_train, X_val, Y_val"
      ],
      "execution_count": 7,
      "outputs": []
    },
    {
      "cell_type": "markdown",
      "metadata": {
        "id": "jF5le-PSpHyI"
      },
      "source": [
        "# Lasso Regression"
      ]
    },
    {
      "cell_type": "code",
      "metadata": {
        "id": "KXHA6LqRpJOL",
        "colab": {
          "base_uri": "https://localhost:8080/",
          "height": 373
        },
        "outputId": "3ea9d6da-032c-487f-e21a-4a21b0fb14ed"
      },
      "source": [
        "X_train, Y_train, X_val, Y_val = split_data(X_multi, Y_multi, train_ratio=0.6)\n",
        "\n",
        "def ista(X_train, Y_train, X_val, Y_val, epochs=100, lr=1e-3, lamda = 1):\n",
        "    '''\n",
        "    Perform multi variable lasso regression using ISTA\n",
        "\n",
        "    Args:\n",
        "    X_train - numpy array of shape (n_samples_train, 5)\n",
        "    Y_train - numpy array of shape (n_samples_train, 1)\n",
        "    X_val - numpy array of shape (n_samples_val, 5)\n",
        "    Y_val - numpy array of shape (n_samples_val, 1)\n",
        "    epochs - number of gradient descent steps\n",
        "    lr - learnig rate\n",
        "    lamda - regularization_weight\n",
        "    '''\n",
        "\n",
        "    w = np.zeros(X_train.shape[1]) #np.random.randn(X_train.shape[1])\n",
        "    b = 0\n",
        "    ## TODO\n",
        "    \n",
        "\n",
        "    n_samples_train = X_train.shape[0]\n",
        "\n",
        "    for i in range(epochs):\n",
        "      err_train = (X_train @ w + b) - Y_train\n",
        "\n",
        "      del_mse_w = 2*( X_train.T @ err_train)\n",
        "      w_t = w - lr*del_mse_w\n",
        "\n",
        "      w_f = np.zeros(w.shape)\n",
        "      gret = w_t > lr*lamda\n",
        "      less = w_t < -1*lr*lamda\n",
        "      w_f[gret] = w_t[gret] - lr*lamda\n",
        "      w_f[less] = w_t[less] + lr*lamda\n",
        "\n",
        "      w = w_f\n",
        "\n",
        "      del_mse_b = 2*(np.sum(err_train))\n",
        "      b_t = b- lr*del_mse_b\n",
        "\n",
        "      b_f = 0.0\n",
        "      if b_t > lr*lamda:\n",
        "        b_f = b_t - lr*lamda \n",
        "      elif b_t < -1*lr*lamda:\n",
        "        b_f = b_t + lr*lamda\n",
        "\n",
        "      b = b_f \n",
        "\n",
        "\n",
        "\n",
        "    ## END TODO\n",
        "    \n",
        "    mse_train = mse_regularized(X_train, Y_train, w, b, lamda)\n",
        "    mse_val = mse_regularized(X_val, Y_val, w, b, lamda)\n",
        "    print(f'Validation loss if {mse_val}')\n",
        "    print(f'Training Loss loss if {mse_train}')\n",
        "    print(w.shape,b,X_train.shape,Y_train.shape)\n",
        "    plot_curves(list(w), b, X_train, Y_train)\n",
        "    return w, b\n",
        "\n",
        "ista(X_train, Y_train, X_val, Y_val)"
      ],
      "execution_count": 8,
      "outputs": [
        {
          "output_type": "stream",
          "name": "stdout",
          "text": [
            "Validation loss if 4.265231717646271\n",
            "Training Loss loss if 4.115812566109785\n",
            "(5,) 0.33851236006103813 (30, 5) (30,)\n"
          ]
        },
        {
          "output_type": "display_data",
          "data": {
            "image/png": "[encoded data removed]",
            "text/plain": [
              "<Figure size 432x288 with 1 Axes>"
            ]
          },
          "metadata": {
            "needs_background": "light"
          }
        },
        {
          "output_type": "execute_result",
          "data": {
            "text/plain": [
              "(array([-1.17753314, -0.05482084,  1.33580519, -0.05482084, -1.17753314]),\n",
              " 0.33851236006103813)"
            ]
          },
          "metadata": {},
          "execution_count": 8
        }
      ]
    },
    {
      "cell_type": "markdown",
      "metadata": {
        "id": "tquhPbDFVo5J"
      },
      "source": [
        "# Ridge Regression"
      ]
    },
    {
      "cell_type": "code",
      "metadata": {
        "id": "mBD7ZLePVhFz",
        "colab": {
          "base_uri": "https://localhost:8080/",
          "height": 354
        },
        "outputId": "ad05e5ae-7612-4f48-ab76-52f369a6f36c"
      },
      "source": [
        "def multivar_reg_closedform(X_train, Y_train, X_val, Y_val, lamda=0.5):\n",
        "\n",
        "    '''\n",
        "    Perform L2 regularized multi variable least squares regression using \n",
        "    closed form update rules\n",
        "\n",
        "    Args:\n",
        "    X_train - numpy array of shape (n_samples_train, 5)\n",
        "    Y_train - numpy array of shape (n_samples_train, 1)\n",
        "    X_val - numpy array of shape (n_samples_val, 5)\n",
        "    Y_val - numpy array of shape (n_samples_val, 1)\n",
        "    lambda - regularization weight\n",
        "    '''\n",
        "\n",
        "    w = np.zeros(X_train.shape[1])\n",
        "    b = 0\n",
        "\n",
        "    ## TODO     #use closed-form solution from previous assignment\n",
        "\n",
        "    n_samples_train = X_train.shape[0]\n",
        "\n",
        "    X_mean = X_train.mean(axis= 0, keepdims= True)\n",
        "    X_req  = X_train - X_mean\n",
        "    i_mat = np.identity(X_train.shape[1], float)\n",
        "    xr_T_xr_lI = X_req.T @ X_req + n_samples_train*lamda*i_mat\n",
        "    xr_T_Y = X_req.T @ Y_train\n",
        "    w = (np.linalg.inv(xr_T_xr_lI)) @ xr_T_Y\n",
        "    b_mat = Y_train - X_train @ w\n",
        "    b = np.mean(b_mat)\n",
        "\n",
        "\n",
        "\n",
        "    ## END TODO\n",
        "\n",
        "    mse_train = mse_multi_var(X_train, Y_train, w, b)\n",
        "    mse_val = mse_multi_var(X_val, Y_val, w, b)\n",
        "    print(f'Validation loss if {mse_val}')\n",
        "    print(f'Training Loss loss if {mse_train}')\n",
        "    plot_curves(list(w), b, X_train, Y_train)\n",
        "    \n",
        "    return w, b\n",
        "\n",
        "multivar_reg_closedform(X_train, Y_train, X_val, Y_val)"
      ],
      "execution_count": 9,
      "outputs": [
        {
          "output_type": "stream",
          "name": "stdout",
          "text": [
            "Validation loss if 1.4885064192132798\n",
            "Training Loss loss if 1.0748104853802822\n"
          ]
        },
        {
          "output_type": "display_data",
          "data": {
            "image/png": "[encoded data removed]",
            "text/plain": [
              "<Figure size 432x288 with 1 Axes>"
            ]
          },
          "metadata": {
            "needs_background": "light"
          }
        },
        {
          "output_type": "execute_result",
          "data": {
            "text/plain": [
              "(array([-0.50446957,  0.06968963,  0.73210416,  0.06968963, -0.50446957]),\n",
              " 0.26391867819152315)"
            ]
          },
          "metadata": {},
          "execution_count": 9
        }
      ]
    },
    {
      "cell_type": "code",
      "metadata": {
        "colab": {
          "base_uri": "https://localhost:8080/",
          "height": 920
        },
        "id": "Sko8Tgt3rsFO",
        "outputId": "fd26a342-84bd-4b3e-a8a6-068552bfef9e"
      },
      "source": [
        "#Q-2.2 : part-3\n",
        "w_r, b_r = multivar_reg_closedform(X_train, Y_train, X_val, Y_val)\n",
        "w_l, b_l = ista(X_train, Y_train, X_val, Y_val)\n",
        "np.append(w_r, b_r)\n",
        "np.append(w_l, b_l)\n",
        "x_leb = np.array([1,2,3,4,5])\n",
        "# print(w_r)\n",
        "# print(w_l)\n",
        "plt.scatter(x_leb, w_r, label=\"ridge\", c =\"green\")\n",
        "plt.scatter(x_leb, w_l, label=\"lasso\", c =\"red\")\n",
        "plt.ylabel(\"weights\")\n",
        "plt.title('weight ridge vs lasso')\n",
        "plt.legend()"
      ],
      "execution_count": 62,
      "outputs": [
        {
          "output_type": "stream",
          "name": "stdout",
          "text": [
            "Validation loss if 2.1252041159493436\n",
            "Training Loss loss if 1.0118866464535248\n"
          ]
        },
        {
          "output_type": "display_data",
          "data": {
            "image/png": "[encoded data removed]",
            "text/plain": [
              "<Figure size 432x288 with 1 Axes>"
            ]
          },
          "metadata": {
            "needs_background": "light"
          }
        },
        {
          "output_type": "stream",
          "name": "stdout",
          "text": [
            "Validation loss if 4.182481077982505\n",
            "Training Loss loss if 3.888112395749294\n",
            "(5,) 0.20968153952630025 (30, 5) (30,)\n"
          ]
        },
        {
          "output_type": "display_data",
          "data": {
            "image/png": "[encoded data removed]",
            "text/plain": [
              "<Figure size 432x288 with 1 Axes>"
            ]
          },
          "metadata": {
            "needs_background": "light"
          }
        },
        {
          "output_type": "execute_result",
          "data": {
            "text/plain": [
              "<matplotlib.legend.Legend at 0x7fce99a7d190>"
            ]
          },
          "metadata": {},
          "execution_count": 62
        },
        {
          "output_type": "display_data",
          "data": {
            "image/png": "[encoded data removed]",
            "text/plain": [
              "<Figure size 432x288 with 1 Axes>"
            ]
          },
          "metadata": {
            "needs_background": "light"
          }
        }
      ]
    },
    {
      "cell_type": "markdown",
      "metadata": {
        "id": "HafXtfE0Zx6D"
      },
      "source": [
        "# Bias-Variance Tradeoff"
      ]
    },
    {
      "cell_type": "code",
      "metadata": {
        "id": "aBatCgQgeZi8"
      },
      "source": [
        "#\n",
        "def ridge(X_train, Y_train, X_test, epochs=20, lr=2e-1, lamda = 1):\n",
        "\n",
        "    w = 0.6\n",
        "    b = 2\n",
        "    n = float(len(X_train)) # Number of elements in X\n",
        "\n",
        "    # Performing Gradient Descent \n",
        "\n",
        "    ## TODO\n",
        "\n",
        "    for i in range(epochs):\n",
        "      err_train = (X_train * w + b) - Y_train\n",
        "\n",
        "      del_mse_w = 2*((X_train.T @ err_train)/n + lamda*w) \n",
        "      w = w - lr*del_mse_w\n",
        "\n",
        "      del_mse_b = 2*(np.sum(err_train))/n\n",
        "      b = b- lr*del_mse_b\n",
        "\n",
        "    ### END TODO\n",
        "\n",
        "    Y_pred = w*X_test+b\n",
        "    return Y_pred\n",
        "\n",
        "def lasso(X_train, Y_train, X_test,epochs=20, lr=2e-1, lamda = 1):\n",
        "    w = 0.6\n",
        "    b = 2\n",
        "    n = float(len(X_train)) # Number of elements in X\n",
        "\n",
        "    # Performing Gradient Descent \n",
        "    ##TODO\n",
        "    for i in range(epochs):\n",
        "      err_train = (X_train * w + b) - Y_train\n",
        "\n",
        "      del_mse_w = 2*( X_train.T @ err_train)\n",
        "      w_t = w - lr*del_mse_w\n",
        "\n",
        "      w_f = 0.0\n",
        "      if w_t > lr*lamda:\n",
        "        w_f = w_t - lr*lamda\n",
        "      elif w_t < -1*lr*lamda:\n",
        "        w_f = w_t + lr*lamda\n",
        "\n",
        "      w = w_f\n",
        "\n",
        "      del_mse_b = 2*(np.sum(err_train))\n",
        "      b_t = b- lr*del_mse_b\n",
        "\n",
        "      b_f = 0.0\n",
        "      if b_t > lr*lamda:\n",
        "        b_f = b_t - lr*lamda \n",
        "      elif b_t < -1*lr*lamda:\n",
        "        b_f = b_t + lr*lamda\n",
        "\n",
        "      b = b_f \n",
        "\n",
        "    ##END TODO\n",
        "\n",
        "    Y_pred = w*X_test+b\n",
        "    return Y_pred\n",
        "\n",
        "def ols(X_train, Y_train, X_test,epochs=20, lr=2e-1):\n",
        "\n",
        "    w = 0.6\n",
        "    b = 2\n",
        "    n = float(len(X_train)) # Number of elements in X\n",
        "\n",
        "    # Performing Gradient Descent \n",
        "    ## TODO\n",
        "\n",
        "    for i in range(epochs):\n",
        "      err_train = (X_train*w + b) - Y_train\n",
        "\n",
        "      del_mse_w = 2*(np.sum(err_train.T @ X_train))/n\n",
        "      w = w - lr*(del_mse_w)\n",
        "\n",
        "      del_mse_b = 2*(np.sum(err_train))/n\n",
        "      b = b - lr*del_mse_b\n",
        "\n",
        "    ### END TODO\n",
        "\n",
        "    Y_pred = w*X_test+b\n",
        "    return Y_pred"
      ],
      "execution_count": 99,
      "outputs": []
    },
    {
      "cell_type": "code",
      "metadata": {
        "id": "78u8LgPFZxZ0"
      },
      "source": [
        "# We fit multiple lines onto our linear model defined by y = c + mx + error.\n",
        "num_lines = 10\n",
        "#size of Dataset, len(Dataset) for 1 line\n",
        "n = 500\n",
        "#weights (slope/intercept)\n",
        "c = 3\n",
        "m = 5"
      ],
      "execution_count": 11,
      "outputs": []
    },
    {
      "cell_type": "code",
      "metadata": {
        "id": "mjwhG142Z6pL"
      },
      "source": [
        "def gen_data():\n",
        "    '''\n",
        "    We sample n, X from uniform distribution and error from zero mean normal distribtion, we find Y using mx+c+e\n",
        "    We do the above for num_lines number of time, to fit different lines for each models(lasso, ols, ridge), doing so will\n",
        "    be helpfull in calculating Expected value of learned esitmator of all n*num_lines dataset\n",
        "\n",
        "    DO NOT CHANGE this function.\n",
        "    '''\n",
        "\n",
        "    w0 = c\n",
        "    w1 = m\n",
        "    data = np.zeros(shape=(num_lines,n,2))\n",
        "    for i in range(num_lines):\n",
        "        x = np.random.uniform(-2, 2, size=(n, 1))\n",
        "        e = np.random.normal(0, 8, size=(n, 1))\n",
        "        y = w0 + w1 * x + e\n",
        "        x_y = np.concatenate((x, y), axis=1)\n",
        "        data[i,:,:] = x_y\n",
        "    return np.array(data)"
      ],
      "execution_count": 12,
      "outputs": []
    },
    {
      "cell_type": "code",
      "metadata": {
        "id": "KXpyZZMLZ-wk"
      },
      "source": [
        "def gen_bais_variance(Y_preds, Y_true):\n",
        "    ## TODO\n",
        "    # (n,m) = Y_preds.shape\n",
        "    E_Y_pred = np.mean(Y_preds, axis=0).reshape(1,-1)\n",
        "    bias =(E_Y_pred - Y_true)\n",
        "\n",
        "    # assert(E_Y_pred.shape == (1,m))\n",
        "\n",
        "    var = (E_Y_pred - Y_preds)\n",
        "    variance = var**2\n",
        "    variance = np.mean(variance, axis=0)\n",
        "\n",
        "    # print(\"Y_preds.shape =\", Y_preds.shape)\n",
        "    # print(\"E_Y_pred.shape =\", E_Y_pred.shape)\n",
        "    # print(\"var.shape =\", var.shape)\n",
        "    # print(\"variance.shape =\", variance.shape)\n",
        "\n",
        "    ## END TODO\n",
        "    return bias, variance"
      ],
      "execution_count": 78,
      "outputs": []
    },
    {
      "cell_type": "code",
      "metadata": {
        "id": "hMzoObAiaBTX"
      },
      "source": [
        "def make_prediction(data, X_test, lambda_=0.5):\n",
        "\n",
        "  y_hat = np.zeros(shape=(num_lines, 3))#store prediction of all model\n",
        "\n",
        "  for i in range(num_lines):\n",
        "      X = data[i, :, 0].reshape(n ,1)\n",
        "      y = data[i, :, 1].reshape(n, 1)\n",
        "\n",
        "      y_hat[i, 0] = ols(X, y, X_test)\n",
        "\n",
        "      y_hat[i, 1] = ridge(X, y, X_test, lamda = lambda_)\n",
        "\n",
        "      y_hat[i, 2] = lasso(X, y, X_test, lamda = lambda_)\n",
        "\n",
        "  return y_hat"
      ],
      "execution_count": 66,
      "outputs": []
    },
    {
      "cell_type": "code",
      "metadata": {
        "id": "DinGJiTgaENE"
      },
      "source": [
        "def plot_figure(l,b,v):\n",
        "\n",
        "  plt.plot(l, b[:, 0], label=\"OLS\")\n",
        "  plt.plot(l, b[:, 1], label=\"Ridge\")\n",
        "  plt.plot(l, b[:, 2], label=\"Lasso\")\n",
        "  plt.xlabel(\"Regularization coefficient\")\n",
        "  plt.ylabel(\"Bias\")\n",
        "  plt.title(\"Bias vs Lambda\")\n",
        "  plt.legend(loc=\"upper left\")\n",
        "  plt.show()\n",
        "\n",
        "  plt.plot(l, v[:, 0], label=\"OLS\")\n",
        "  plt.plot(l, v[:, 1], label=\"Ridge\")\n",
        "  plt.plot(l, v[:, 2], label=\"Lasso\")\n",
        "  plt.xlabel(\"Regularization coefficient\")\n",
        "  plt.ylabel(\"Variance\")\n",
        "  plt.title(\"Variance vs Lambda\")\n",
        "  plt.legend(loc=\"lower left\")\n",
        "  plt.show()\n",
        "\n"
      ],
      "execution_count": 67,
      "outputs": []
    },
    {
      "cell_type": "code",
      "metadata": {
        "id": "nJD2hCXxaIAA",
        "colab": {
          "base_uri": "https://localhost:8080/",
          "height": 573
        },
        "outputId": "e1624a64-e6f5-4af0-8155-ea8e5329c114"
      },
      "source": [
        "def driver():\n",
        "  all_lambda = np.linspace(0.0001, 1, 100)\n",
        "  all_bias = np.zeros(shape=(len(all_lambda), 3))\n",
        "  all_variance = np.zeros(shape=(len(all_lambda), 3))\n",
        "  dataset = gen_data()\n",
        "  X_test = np.array([4]).reshape((1,1))\n",
        "  for i, l in enumerate(all_lambda):\n",
        "      Y_hat = make_prediction(dataset, X_test, lambda_=l)\n",
        "      ##TODO #calculate true mean Y_true\n",
        "\n",
        "      Y_true = m*X_test + c\n",
        "\n",
        "      # print(Y_hat.shape, Y_true.shape)\n",
        "      ##END TODO\n",
        "      all_bias[i, :], all_variance[i, :] = gen_bais_variance(Y_hat, Y_true)\n",
        "  plot_figure(all_lambda, all_bias, all_variance)\n",
        "\n",
        "\n",
        "driver()"
      ],
      "execution_count": 100,
      "outputs": [
        {
          "output_type": "display_data",
          "data": {
            "image/png": "[encoded data removed]",
            "text/plain": [
              "<Figure size 432x288 with 1 Axes>"
            ]
          },
          "metadata": {
            "needs_background": "light"
          }
        },
        {
          "output_type": "display_data",
          "data": {
            "image/png": "[encoded data removed]",
            "text/plain": [
              "<Figure size 432x288 with 1 Axes>"
            ]
          },
          "metadata": {
            "needs_background": "light"
          }
        }
      ]
    },
    {
      "cell_type": "markdown",
      "metadata": {
        "id": "bo75okrxU6D0"
      },
      "source": [
        "# Perceptron"
      ]
    },
    {
      "cell_type": "code",
      "metadata": {
        "id": "QaL7Zo3nU8Vm",
        "colab": {
          "base_uri": "https://localhost:8080/"
        },
        "outputId": "75291701-7c92-4e7f-cd53-fb2e955676ac"
      },
      "source": [
        "X_train_multiclass, Y_train_multiclass, X_val_multiclass, Y_val_multiclass = split_data(X_multi_class, Y_multi_class, train_ratio=0.6)\n",
        "\n",
        "def perceptron_algo(X_train_multiclass, Y_train_multiclass, X_val_multiclass, Y_val_multiclass,n_class=3, epochs=30):\n",
        "  W=np.zeros((n_class, len(X_train_multiclass[0]) ))\n",
        "  ## TODO\n",
        "\n",
        "  for _ in range(epochs):\n",
        "    for i in range(X_train_multiclass.shape[0]):\n",
        "      x_i = X_train_multiclass[i]\n",
        "      y_i = Y_train_multiclass[i]\n",
        "      \n",
        "      scores = W @ x_i.reshape(-1, 1)\n",
        "      y_p = np.argmax(scores)\n",
        "      \n",
        "      if y_p != y_i:\n",
        "        W[y_i, :] = W[y_i, :] + X_train_multiclass[i]\n",
        "        W[y_p, :] = W[y_p, :] - X_train_multiclass[i]\n",
        "  \n",
        "\n",
        "  ##END TODO\n",
        "\n",
        "  Y_pred=list()\n",
        "  for i in range(len(Y_val_multiclass)):\n",
        "      y_pred=np.argmax([np.dot(W[0],X_val_multiclass[i]),np.dot(W[1],X_val_multiclass[i]),np.dot(W[2],X_val_multiclass[i])])\n",
        "      Y_pred.append(y_pred)\n",
        "\n",
        "  from sklearn.metrics import classification_report\n",
        "  target_names = ['class 0', 'class 1', 'class 2']\n",
        "  print(classification_report(Y_val_multiclass, Y_pred, target_names=target_names))\n",
        "  return W\n",
        "\n",
        "perceptron_algo(X_train_multiclass, Y_train_multiclass, X_val_multiclass, Y_val_multiclass)\n"
      ],
      "execution_count": 53,
      "outputs": [
        {
          "output_type": "stream",
          "name": "stdout",
          "text": [
            "              precision    recall  f1-score   support\n",
            "\n",
            "     class 0       1.00      1.00      1.00        17\n",
            "     class 1       1.00      0.80      0.89        10\n",
            "     class 2       0.87      1.00      0.93        13\n",
            "\n",
            "    accuracy                           0.95        40\n",
            "   macro avg       0.96      0.93      0.94        40\n",
            "weighted avg       0.96      0.95      0.95        40\n",
            "\n"
          ]
        },
        {
          "output_type": "execute_result",
          "data": {
            "text/plain": [
              "array([[ 11.41666711,  12.24590122],\n",
              "       [ -7.98435916,   0.5536833 ],\n",
              "       [ -3.43230795, -12.79958453]])"
            ]
          },
          "metadata": {},
          "execution_count": 53
        }
      ]
    }
  ]
}