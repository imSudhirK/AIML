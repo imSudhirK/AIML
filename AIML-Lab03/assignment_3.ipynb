{
  "nbformat": 4,
  "nbformat_minor": 0,
  "metadata": {
    "colab": {
      "name": "assignment_3.ipynb",
      "provenance": [],
      "collapsed_sections": []
    },
    "kernelspec": {
      "name": "python3",
      "display_name": "Python 3"
    },
    "language_info": {
      "name": "python"
    }
  },
  "cells": [
    {
      "cell_type": "markdown",
      "metadata": {
        "id": "9hRpsy5Zp8Lr"
      },
      "source": [
        "\n",
        "## <font color=red> You should not import any new libraries. Your code should run with python=3.x</font>\n",
        "## <font color=red> Please don't rename this .ipynb file.</font><br>\n",
        "- Your solutions will be auto-graded. Hence we request you to follow the instructions.\n",
        "- Modify the code only between \n",
        "```\n",
        "## TODO\n",
        "## END TODO\n",
        "```\n",
        "- In addition to above changes, you can play with arguments to the functions for generating plots\n",
        "- We will run the auto grading scripts with private test data"
      ]
    },
    {
      "cell_type": "code",
      "metadata": {
        "id": "mBBZWQn3WjsN"
      },
      "source": [
        "import numpy as np\n",
        "from matplotlib import pyplot as plt\n",
        "import math"
      ],
      "execution_count": 1,
      "outputs": []
    },
    {
      "cell_type": "markdown",
      "metadata": {
        "id": "kxgQgosmYXRu"
      },
      "source": [
        "##LOAD DATA"
      ]
    },
    {
      "cell_type": "code",
      "metadata": {
        "id": "TSk_qe4RXFYz"
      },
      "source": [
        "X = np.load('./data/train_X.npy')\n",
        "Y = np.array([np.load('./data/train_y.npy')]).T"
      ],
      "execution_count": 2,
      "outputs": []
    },
    {
      "cell_type": "code",
      "metadata": {
        "id": "OR4FU-VdluE-"
      },
      "source": [
        "# print(X.shape)\n",
        "# print(Y.shape)\n",
        "# print(X[1, :])\n",
        "# print(X)\n",
        "# print(Y[:5])"
      ],
      "execution_count": null,
      "outputs": []
    },
    {
      "cell_type": "markdown",
      "metadata": {
        "id": "-9j3in3odIle"
      },
      "source": [
        "Normalization / Standardization"
      ]
    },
    {
      "cell_type": "code",
      "metadata": {
        "id": "iaYuScGvdEum"
      },
      "source": [
        "def normalize(X):\n",
        "  \"\"\"\n",
        "  Implement Normalization for input image features\n",
        "\n",
        "  Args:\n",
        "  X : numpy array of shape (n_samples, 784)\n",
        "   \n",
        "  Returns:\n",
        "  X_norm : numpy array of shape (n_samples, 784) after normalization\n",
        "  \"\"\"\n",
        "  X_norm = None\n",
        "  \n",
        "  ## TODO\n",
        "  x_mean = np.mean(X, axis=0)\n",
        "  x_std  = np.std(X, axis=0)\n",
        "  X_norm = (X - x_mean)/ (x_std + 0.00001)\n",
        "  \n",
        "  ## END TODO\n",
        "\n",
        "  assert X_norm.shape == X.shape\n",
        "\n",
        "  return X_norm\n",
        "\n",
        "def scaling(X):\n",
        "  \"\"\"\n",
        "  Implement MinMax Scaling on input image features\n",
        "\n",
        "  Args:\n",
        "  X : numpy array of shape (n_samples, 784)\n",
        "   \n",
        "  Returns:\n",
        "  X_scaled : numpy array of shape (n_samples, 784)\n",
        "  \"\"\"\n",
        "  X_scaled = None\n",
        "\n",
        "  ##TODO\n",
        "  x_min = np.min(X, axis=0)\n",
        "  x_max = np.max(X, axis=0)\n",
        "  X_scaled = (X - x_min) / (x_max - x_min + 0.00001)\n",
        "  \n",
        "  ##END TODO\n",
        "  \n",
        "  assert X_scaled.shape == X.shape\n",
        "\n",
        "  return X_scaled"
      ],
      "execution_count": 3,
      "outputs": []
    },
    {
      "cell_type": "code",
      "metadata": {
        "id": "qeUNEDHtQiLc"
      },
      "source": [
        "# print(normalize(X)[:5, :10])\n",
        "# print(scaling(X)[:5, :10])"
      ],
      "execution_count": null,
      "outputs": []
    },
    {
      "cell_type": "markdown",
      "metadata": {
        "id": "ejROq-52YUol"
      },
      "source": [
        "### Split data into train/val"
      ]
    },
    {
      "cell_type": "code",
      "metadata": {
        "id": "l07sJgZ3XG-N"
      },
      "source": [
        "def split_data(X, Y, train_ratio=0.8):\n",
        "    '''\n",
        "    Split data into train and validation sets\n",
        "    The first floor(train_ratio*n_sample) samples form the train set\n",
        "    and the remaining the test set\n",
        "\n",
        "    Args:\n",
        "    X - numpy array of shape (n_samples, n_features)\n",
        "    Y - numpy array of shape (n_samples, 1)\n",
        "    train_ratio - fraction of samples to be used as training data\n",
        "\n",
        "    Returns:\n",
        "    X_train, Y_train, X_val, Y_val\n",
        "    '''\n",
        "    # Try Normalization and scaling and store it in X_transformed\n",
        "    X_transformed = X\n",
        "\n",
        "    ## TODO\n",
        "\n",
        "    X_transformed = normalize(X)\n",
        "    # X_transformed = scaling(X)\n",
        "\n",
        "    n_samples = X_transformed.shape[0]\n",
        "    S = np.arange(n_samples)\n",
        "    np.random.shuffle(S)\n",
        "    X_ = X_transformed[S]\n",
        "    Y_ = Y[S]\n",
        "\n",
        "    dim = X_.ndim\n",
        "    if dim  ==1:\n",
        "      X_ = X_.reshape(-1, 1)\n",
        "\n",
        "    train_size = int(np.floor(n_samples*train_ratio))\n",
        "    X_train = X_[:train_size,:]\n",
        "    Y_train = Y_[:train_size]\n",
        "    X_val = X_[train_size:,:]\n",
        "    Y_val = Y_[train_size:]\n",
        "    \n",
        "    ## END TODO\n",
        "\n",
        "    assert X_transformed.shape == X.shape\n",
        "\n",
        "    num_samples = len(X)\n",
        "    indices = np.arange(num_samples)\n",
        "    num_train_samples = math.floor(num_samples * train_ratio)\n",
        "    train_indices = np.random.choice(indices, num_train_samples, replace=False)\n",
        "    val_indices = list(set(indices) - set(train_indices))\n",
        "    X_train, Y_train, X_val, Y_val = X_transformed[train_indices], Y[train_indices], X_transformed[val_indices], Y[val_indices]\n",
        "  \n",
        "    return X_train, Y_train, X_val, Y_val"
      ],
      "execution_count": 4,
      "outputs": []
    },
    {
      "cell_type": "markdown",
      "metadata": {
        "id": "ZT-b4s1Kb6eL"
      },
      "source": [
        "**Plotting image**"
      ]
    },
    {
      "cell_type": "code",
      "metadata": {
        "id": "6jlAZLOtY73s"
      },
      "source": [
        "def plot_image(x, y, idx):\n",
        "  \"\"\"\n",
        "  Plot the given feature vector into image of size 28 X 28 \n",
        "  note that originally the image was of size 28*28 which is flattened or unrolled\n",
        "  to 784 X 1 feature vector\n",
        "\n",
        "  Args:\n",
        "  x : numpy array of images\n",
        "  y : numpy array of ground truth labels for images\n",
        "  idx : index of the image\n",
        "  \"\"\"\n",
        "\n",
        "  image = np.reshape(x[idx], (28,28))\n",
        "  plt.imshow(image, interpolation='nearest')\n",
        "  plt.show()\n",
        "  print (f'The ground truth label for this iamge is : {y[idx]}')"
      ],
      "execution_count": 5,
      "outputs": []
    },
    {
      "cell_type": "markdown",
      "metadata": {
        "id": "xkI57T5zdsci"
      },
      "source": [
        "Encode 1 for any one of the class and 0 to all other remaining class for all labels"
      ]
    },
    {
      "cell_type": "code",
      "metadata": {
        "id": "XlRACMv1WggK"
      },
      "source": [
        "def get_data_for_class(X,Y,id):\n",
        "  \"\"\"\n",
        "  Args:\n",
        "  X : numpy array of input features, shape - (n_samples x 784)\n",
        "  Y : numpy array of input targets, shape - (n_samples x 1)\n",
        "  id : class id (one of 1,4,7,9)\n",
        "\n",
        "  Returns:\n",
        "  class_X : numpy array of input features, shape - (n_samples x 784)\n",
        "  class_Y : numpy array of input targets, where class_Y[i]=1 if Y[i]=id else class_Y[i]=0, shape - (n_samples x 784)\n",
        "  \"\"\"\n",
        "  class_X, class_Y = None, None\n",
        "\n",
        "  ##TODO\n",
        "  class_X = X\n",
        "  class_Y = Y == id\n",
        "  ##END TODO\n",
        "\n",
        "  assert class_X.shape == X.shape and class_Y.shape == Y.shape\n",
        "\n",
        "  return class_X, class_Y"
      ],
      "execution_count": 6,
      "outputs": []
    },
    {
      "cell_type": "markdown",
      "metadata": {
        "id": "YFhZGe-2djbu"
      },
      "source": [
        "Random Sampling"
      ]
    },
    {
      "cell_type": "code",
      "metadata": {
        "id": "CKCNwUdgdi91"
      },
      "source": [
        "def sample_training_points(X, y, sample_size):\n",
        "  \"\"\"\n",
        "  Takes input features, targets and sample size, and returns random sample of size = sample_size\n",
        "\n",
        "  Args: \n",
        "  X : numpy array of shape (n_samples , n_features)\n",
        "  y : numpy array of shape (n_samples , 1)\n",
        "  \n",
        "  Returns: \n",
        "  sampled_X : numpy array of shape (sample_size , n_eatures)\n",
        "  sampled_y : numpy array of shape (sample_size , 1)\n",
        "\n",
        "  \"\"\"\n",
        "  sampled_X , sampled_y = None, None\n",
        "  \n",
        "  ##TODO\n",
        "  n_samples = X.shape[0]\n",
        "  S = np.arange(n_samples)\n",
        "  np.random.shuffle(S)\n",
        "  X_random = X[S]\n",
        "  Y_random = y[S]\n",
        "\n",
        "  sampled_X = X_random[:sample_size,:]\n",
        "  sampled_y = Y_random[:sample_size]\n",
        " \n",
        "  ##END TODO\n",
        "\n",
        "  assert sampled_X.shape==(sample_size,X.shape[1]) and sampled_y.shape==(sample_size,1)\n",
        "  \n",
        "  return sampled_X, sampled_y"
      ],
      "execution_count": 7,
      "outputs": []
    },
    {
      "cell_type": "markdown",
      "metadata": {
        "id": "lE4aGEKSf_mo"
      },
      "source": [
        "LOGISTIC REGRESSION CLASSIFIER"
      ]
    },
    {
      "cell_type": "code",
      "metadata": {
        "id": "MmQHu4nYgksD"
      },
      "source": [
        "def sigmoid(weights, bias, X):\n",
        "  \"\"\"\n",
        "  Implement logistic/ sigmoid function\n",
        "\n",
        "  Args:\n",
        "  weights : numpy array of shape (n_dimension , 1)\n",
        "  bias : scaler\n",
        "  X : numpy array of shape (n_samples , n_dimension)\n",
        "\n",
        "  Returns: \n",
        "  Y_sigmoid : numpy array of shape (n_samples, 1)\n",
        "  \"\"\"\n",
        "  Y_sigmoid = None\n",
        "\n",
        "  ##TODO\n",
        "\n",
        "  y =  X @ weights + bias  \n",
        "  Y_sigmoid = 1.0 / (1.0 + np.exp(-y))\n",
        "  \n",
        "  ##END TODO\n",
        "  assert Y_sigmoid.shape == (X.shape[0],1)\n",
        "\n",
        "  return Y_sigmoid\n",
        "\n",
        "\n",
        "def cross_entropy_loss(weights, bias, X, y):\n",
        "  \"\"\"\n",
        "  Takes input features, weights, bias and target \n",
        "  and calculates binary cross entropy loss between y and predicted values of y.\n",
        "\n",
        "  Args:\n",
        "  weights : numpy array of shape (n_features, 1)\n",
        "  bias : scalar\n",
        "  X : numpy array of shape (n_samples, 1)\n",
        "  y : numpy array of shape (n_samples, 1)\n",
        "  \n",
        "  Returns :\n",
        "  loss : single float value\n",
        "  \"\"\"\n",
        "  loss = 0.0\n",
        "\n",
        "  ##TODO\n",
        "  n_samples = X.shape[0]\n",
        "  p_Y_hat = sigmoid(weights, bias, X)\n",
        "  entropy = (y.T @ np.log(p_Y_hat + 0.000001))\n",
        "  loss = entropy + (1- y.T) @ np.log( 1 - p_Y_hat + 0.000001)\n",
        "  loss = - loss[0][0] /(1.0*n_samples)\n",
        "  \n",
        "  ##END TODO\n",
        "\n",
        "  return loss\n",
        "\n",
        "def grad(X, y, weights, bias):\n",
        "\n",
        "  \"\"\"\n",
        "  Return gradient for weights and biases\n",
        "\n",
        "  Args:\n",
        "  X : numpy array of shape (n_samples , n_dimension)\n",
        "  y : numpy array of shape (n_samples , 1)\n",
        "  weights : numpy array of shape (n_dimension , 1)\n",
        "  bias : scalar\n",
        "\n",
        "  Returns: \n",
        "  gradient : [dw , db]\n",
        "              dw - numpy array of shape (n_dimension , 1)\n",
        "              db - numpy array of shape (1)\n",
        "  \"\"\"\n",
        "\n",
        "  dw , db = None , None\n",
        "\n",
        "  ##TODO\n",
        "  n_samples = X.shape[0]\n",
        "  Y_hat = sigmoid(weights, bias, X)\n",
        "  delta_w = X.T @ (Y_hat - y)\n",
        "  dw = delta_w /(1.0* n_samples)\n",
        "\n",
        "  ones_mat = np.ones(X.shape[0], float).reshape(-1, 1)\n",
        "  delta_b = Y_hat - y\n",
        "  # print(delta_b.T.shape, ones_mat.shape)\n",
        "  delta_b = delta_b.T @ ones_mat\n",
        "  db = delta_b[0][0] /(1.0*n_samples)\n",
        "  \n",
        "  ##END TODO\n",
        "\n",
        "  assert dw.shape == weights.shape \n",
        "  assert isinstance(db, float)\n",
        "\n",
        "  gradient = [dw , db]\n",
        "\n",
        "  return gradient\n",
        "\n",
        "def logistic_regression(X, y, epoch, lr, sample_size):\n",
        "  \"\"\"\n",
        "  Args :\n",
        "\n",
        "  X : numpy array of inpuy features of shape (n_samples, n_features)\n",
        "  y : numpy array of targets of shape (n_samples, 1)\n",
        "  epochs : number of iterations of training\n",
        "  lr : learning_rate\n",
        "  sample_size : batch_size for each iteration\n",
        "\n",
        "  Returns : \n",
        "  loss : list containg loss for each epoch\n",
        "  weights : numpy array of shape (n_features, 1)\n",
        "  bias :  scaler\n",
        "  \"\"\"\n",
        "\n",
        "  loss, weights, bias = [], None, 0\n",
        "  #define weights and bias (w, b) initialize the weight\n",
        "\n",
        "  ##TODO\n",
        "  weights = np.zeros(784, float).reshape(-1, 1)\n",
        "\n",
        "  for i in range(0, epoch):\n",
        "    X_sample, Y_sample = sample_training_points(X, y, sample_size)\n",
        "    # print(\"X_sample\", X_sample)\n",
        "    # print(\"Y_sample\", Y_sample)\n",
        "\n",
        "    gradient  = grad(X_sample, Y_sample, weights, bias)\n",
        "    d_w, d_b = gradient[0], gradient[1]\n",
        "\n",
        "    # print(\"gradient\", d_w[:5, :], d_b)\n",
        "\n",
        "    weights = weights - lr*d_w\n",
        "    bias = bias - lr*d_b\n",
        "    loss_sample = cross_entropy_loss(weights, bias, X, y)\n",
        "    # print(\"loss\", loss_sample)\n",
        "    # print(\"weights\", weights[:5,:])\n",
        "    # print(\"bias\", bias)\n",
        "\n",
        "    loss.append(loss_sample)\n",
        "\n",
        "  ##TODO\n",
        "  assert len(loss) == epoch and weights.shape == (X.shape[1],1)\n",
        "\n",
        "  return [loss, weights, bias]\n",
        "\n",
        "def train_multi_class(X, Y):\n",
        "  \"\"\"\n",
        "  make multi class classifier using binary classification (1 vs all)\n",
        "\n",
        "  Args:\n",
        "  X : numpy array of input features of shape (n_samples, n_features)\n",
        "  Y : numpy array of input features of shape (n_samples, 1)\n",
        "\n",
        "  Returns:\n",
        "\n",
        "  param_list : list of param for all classifiers, where param = [weights, bias]\n",
        "  loss_list : list of lists of losses of all classifiers for all epochs\n",
        "  \"\"\"\n",
        "\n",
        "  digits = [1,4,7,9]\n",
        "  param_list = []\n",
        "  loss_list = []\n",
        "\n",
        "\n",
        "  #train i vs all weights and bias, where i in {1,4,7,9}\n",
        "  epochs , lr , sample_size = 500, 0.01, 120\n",
        "  # epochs , lr , sample_size = 5, 0.01, 10\n",
        "\n",
        "  for i in digits:\n",
        "    X_train, Y_train = get_data_for_class(X, Y, id=i)\n",
        "    # print(Y_train)\n",
        "    output = logistic_regression(X_train, Y_train, epochs, lr, sample_size)\n",
        "    param_list.append(output[1:]) \n",
        "    loss_list.append(output[0])   \n",
        "\n",
        "  return param_list, loss_list"
      ],
      "execution_count": 8,
      "outputs": []
    },
    {
      "cell_type": "code",
      "metadata": {
        "id": "vY8FbTF9KfzR"
      },
      "source": [
        "# print(loss_list)\n",
        "# print(len(param_lists))\n",
        "# print(len(param_lists[0]))\n",
        "# print(param_lists[0][0].shape)\n",
        "# print(param_lists[0][1])"
      ],
      "execution_count": null,
      "outputs": []
    },
    {
      "cell_type": "code",
      "metadata": {
        "id": "w96QeoELvelA"
      },
      "source": [
        "def to_class(predicts):\n",
        "  \"\"\"\n",
        "  Args: \n",
        "  predicts : numpy array of shape (n_samples, 4)\n",
        "  \n",
        "  Return:\n",
        "  predicted classes : numpy array of shape(num_samples, class_id), where class_id in {1,4,7,9}\n",
        "  \n",
        "  \"\"\"\n",
        "  labels = {0:1, 1:4, 2:7, 3:9}\n",
        "  predicted_class = []\n",
        "  for i in range(predicts.shape[0]):\n",
        "    label = np.argmax(predicts[i])\n",
        "    predicted_class.append(labels[label])\n",
        "\n",
        "  return np.array(predicted_class).reshape(len(predicted_class),1)\n",
        "\n",
        "def prediction(param, X):\n",
        "  \"\"\"\n",
        "  It return the array of predicted class for all samples in X                                    \n",
        "\n",
        "  Args: \n",
        "  param[0] = [w,b] of class 1 vs all\n",
        "  param[1] = [w,b] of class 4 vs all\n",
        "  param[2] = [w,b] of class 7 vs all\n",
        "  param[3] = [w,b] of class 9 vs all\n",
        "\n",
        "  X = numpy array of input features, shape (n_samples , 784)\n",
        "\n",
        "  Returns:\n",
        "  predicts = numpy array for shape (n_samples , 4), \n",
        "             where predicts[i][j] is probablity that sample i belongs to class j when using classifer j vs all\n",
        "\n",
        "  \"\"\"\n",
        "\n",
        "  predicts = None\n",
        "\n",
        "  ##TODO\n",
        "  ones_mat = np.ones(X.shape[0], float)\n",
        "  X_ones  = np.append(X, ones_mat.reshape(-1, 1), axis = 1)\n",
        "\n",
        "  param_mat = np.array(param)\n",
        "  pw = param_mat[0][0].reshape(1, 784)\n",
        "  pw1 = param_mat[1][0].reshape(1, 784)\n",
        "  pw2 = param_mat[2][0].reshape(1, 784)\n",
        "  pw3 = param_mat[3][0].reshape(1, 784)\n",
        "  pb = param_mat[:, 1].reshape(4,1)\n",
        "\n",
        "  final_w = np.concatenate((pw, pw1, pw2, pw3), axis=0)\n",
        "  final_param = np.concatenate((final_w, pb), axis=1)\n",
        "  # print(final_param.shape)\n",
        "  # print(pb)\n",
        "\n",
        "  predicts = X_ones @ final_param.T\n",
        "  \n",
        "  ##END TODO\n",
        "  assert predicts.shape == (X.shape[0],4)\n",
        "\n",
        "  return predicts\n"
      ],
      "execution_count": 9,
      "outputs": []
    },
    {
      "cell_type": "code",
      "metadata": {
        "id": "2om8E02u579X"
      },
      "source": [
        "def accuracy(Y_pred, Y_true):\n",
        "\n",
        "  '''\n",
        "  This functions calculates accuracy for -\n",
        "    1) each of the 4 class \n",
        "    2) whole dataset\n",
        "    Note : Do not report in percentage\n",
        "\n",
        "  Args:\n",
        "  Y_pred : Predicted class labels, numpy array of shape (n_samples , 1)\n",
        "  Y_true : True/Actual class labels, numpy array of shape (n_samples , 1)\n",
        "\n",
        "  Returns:\n",
        "  list of length 5, 1 st value is overall accuracy followed by accuracy of all 4 individual classifies\n",
        "  '''\n",
        "  \n",
        "  total_accuracy = np.sum(Y_pred==Y_true)/Y_true.shape[0]\n",
        "  accuracy_1 , accuracy_4 , accuracy_7 , accuracy_9 = 0, 0, 0, 0\n",
        "  #TODO\n",
        "  tot_count = [0, 0, 0, 0]\n",
        "  correct_count = [0, 0, 0, 0]\n",
        "  for i in range(len(Y_true)):\n",
        "    if Y_true[i] == 1:\n",
        "      tot_count[0] += 1\n",
        "      if Y_pred[i] == 1:\n",
        "        correct_count[0] += 1\n",
        "    elif Y_true[i] == 4:\n",
        "      tot_count[1] += 1\n",
        "      if Y_pred[i] == 4:\n",
        "        correct_count[1] += 1\n",
        "    elif Y_true[i] == 7:\n",
        "      tot_count[2] += 1\n",
        "      if Y_pred[i] == 7:\n",
        "        correct_count[2] += 1\n",
        "    elif Y_true[i] == 9:\n",
        "      tot_count[3] += 1\n",
        "      if Y_pred[i] == 9:\n",
        "        correct_count[3] += 1\n",
        "  accuracy_1 = 1.0*correct_count[0] / (1.0*tot_count[0])\n",
        "  accuracy_4 = 1.0*correct_count[1] / (1.0*tot_count[1])\n",
        "  accuracy_7 = 1.0*correct_count[2] / (1.0*tot_count[2])\n",
        "  accuracy_9 = 1.0*correct_count[3] / (1.0*tot_count[3])\n",
        "\n",
        "  ##END TO\n",
        "\n",
        "  print(\"Total Accuray : \", total_accuracy) \n",
        "  print(\"Accuray class 1 : \", accuracy_1) \n",
        "  print(\"Accuray class 4 : \", accuracy_4) \n",
        "  print(\"Accuray class 7 : \", accuracy_7) \n",
        "  print(\"Accuray class 9 : \", accuracy_9) \n",
        "\n",
        "  return [total_accuracy, accuracy_1, accuracy_4, accuracy_7, accuracy_9]"
      ],
      "execution_count": 10,
      "outputs": []
    },
    {
      "cell_type": "code",
      "metadata": {
        "id": "sl9_jRs0bsU5"
      },
      "source": [
        "def calculate_metrics(Y_pred, Y_true):\n",
        "\n",
        "  '''\n",
        "  This functions calculates precision, recall and f1-score for -\n",
        "    1) each of the 4 class \n",
        "    2) whole dataset\n",
        "    Note : Do not report in percentage\n",
        "\n",
        "  Args:\n",
        "  Y_pred : Predicted class labels, numpy array of shape (n_samples , 1)\n",
        "  Y_true : True/Actual class labels, numpy array of shape (n_samples , 1)\n",
        "\n",
        "  Returns:\n",
        "  (precision , recall , f1_score) : a tuple of 3 lists i.e. precison, recall and f1_score where\n",
        "          precision : list of length 5, 1 st value is overall precison followed by precision of all 4 individual classes\n",
        "          recall : list of length 5, 1 st value is overall recall followed by recall of all 4 individual classes\n",
        "          f1_score : list of length 5, 1 st value is overall f1-score followed by f1-score of all 4 individual classes\n",
        "  '''\n",
        "\n",
        "  precision , recall , f1_score = [], [] ,[]\n",
        "\n",
        "  ## TODO\n",
        "  precision , recall , f1_score = [0, 0, 0, 0, 0], [0, 0, 0, 0, 0], [0, 0, 0, 0, 0]\n",
        "  TP = [0, 0, 0, 0]\n",
        "  FP = [0, 0, 0, 0]\n",
        "  FN = [0, 0, 0, 0]\n",
        "  for i in range(len(Y_true)):\n",
        "    if Y_pred[i] == 1 and Y_true[i] == 1:\n",
        "      TP[0] +=1\n",
        "    elif Y_pred[i] == 4 and Y_true[i] == 4:\n",
        "      TP[1] +=1\n",
        "    elif Y_pred[i] == 7 and Y_true[i] == 7:\n",
        "      TP[2] +=1\n",
        "    elif Y_pred[i] == 9 and Y_true[i] == 9:\n",
        "      TP[3] +=1\n",
        "    elif Y_pred[i] == 1 and Y_true[i] != 1:\n",
        "      FP[0] +=1\n",
        "    elif Y_pred[i] == 4 and Y_true[i] != 4:\n",
        "      FP[1] +=1\n",
        "    elif Y_pred[i] == 7 and Y_true[i] != 7:\n",
        "      FP[2] +=1\n",
        "    elif Y_pred[i] == 9 and Y_true[i] != 9:\n",
        "      FP[3] +=1\n",
        "    elif Y_pred[i] != 1 and Y_true[i] == 1:\n",
        "      FN[0] +=1\n",
        "    elif Y_pred[i] != 4 and Y_true[i] == 4:\n",
        "      FN[1] +=1\n",
        "    elif Y_pred[i] != 7 and Y_true[i] == 7:\n",
        "      FN[2] +=1\n",
        "    elif Y_pred[i] != 9 and Y_true[i] == 9:\n",
        "      FN[3] +=1\n",
        "  \n",
        "  precision[0] = 1.0*np.sum(TP) /(np.sum(TP) +  np.sum(FP))\n",
        "  recall[0]    = 1.0*np.sum(TP) /(np.sum(TP) +  np.sum(FN))\n",
        "  f1_score[0]  = 2.0*precision[0]*recall[0]/(recall[0]+precision[0])\n",
        "  for i in range(0, 4):\n",
        "    precision[i+1] = 1.0*TP[i] / (TP[i] + FP[i])\n",
        "    recall[i+1]    = 1.0*TP[i] / (TP[i] + FN[i])\n",
        "    f1_score[i+1]  = 2.0*precision[i+1]*recall[i+1]/(recall[i+1]+precision[i+1])\n",
        "\n",
        "  ## END TODO\n",
        "\n",
        "  assert len(precision)==5 and len(recall)==5 and len(f1_score)==5\n",
        "\n",
        "  return (precision, recall, f1_score)"
      ],
      "execution_count": 12,
      "outputs": []
    },
    {
      "cell_type": "code",
      "metadata": {
        "id": "nyVYAPhtm_At"
      },
      "source": [
        "X_train, Y_train, X_val, Y_val = split_data(X,Y)\n",
        "param_lists, loss_list = train_multi_class(X_train, Y_train)"
      ],
      "execution_count": 11,
      "outputs": []
    },
    {
      "cell_type": "code",
      "metadata": {
        "id": "q82oEeRF-guz"
      },
      "source": [
        "def plot_training_loss(loss_list):\n",
        "  labels = [\"1\", \"4\", \"7\", \"9\"]\n",
        "  for ids, loss in enumerate(loss_list):\n",
        "    plt.plot(loss, label = labels[ids])\n",
        "  plt.legend(loc='best')\n",
        "  plt.title('Training Loss of each class (1 vs all)')\n",
        "  plt.show()"
      ],
      "execution_count": 13,
      "outputs": []
    },
    {
      "cell_type": "markdown",
      "metadata": {
        "id": "c9kL6ByDgZyI"
      },
      "source": [
        "## Plot curve for loss"
      ]
    },
    {
      "cell_type": "code",
      "metadata": {
        "id": "PC3lGdUy-jek",
        "colab": {
          "base_uri": "https://localhost:8080/",
          "height": 281
        },
        "outputId": "c9e4afae-a49a-460b-ea92-17f2038a7b64"
      },
      "source": [
        "plot_training_loss(loss_list)\n",
        "# print(loss_list)"
      ],
      "execution_count": 14,
      "outputs": [
        {
          "output_type": "display_data",
          "data": {
            "image/png": "[encoded data removed]",
            "text/plain": [
              "<Figure size 432x288 with 1 Axes>"
            ]
          },
          "metadata": {
            "needs_background": "light"
          }
        }
      ]
    },
    {
      "cell_type": "code",
      "metadata": {
        "id": "XNTZuQF8nDTD",
        "colab": {
          "base_uri": "https://localhost:8080/"
        },
        "outputId": "8e73d69e-8267-4859-d3a9-401607ff3828"
      },
      "source": [
        "Y_pred = to_class( prediction(param_lists, X_val) )"
      ],
      "execution_count": 15,
      "outputs": [
        {
          "output_type": "stream",
          "name": "stderr",
          "text": [
            "/usr/local/lib/python3.7/dist-packages/ipykernel_launcher.py:42: VisibleDeprecationWarning: Creating an ndarray from ragged nested sequences (which is a list-or-tuple of lists-or-tuples-or ndarrays with different lengths or shapes) is deprecated. If you meant to do this, you must specify 'dtype=object' when creating the ndarray\n"
          ]
        }
      ]
    },
    {
      "cell_type": "markdown",
      "metadata": {
        "id": "UVkva3PIgcsu"
      },
      "source": [
        "## Calculate accuracy, precision , recall and F1-score"
      ]
    },
    {
      "cell_type": "code",
      "metadata": {
        "id": "slH97B8L0iHR",
        "colab": {
          "base_uri": "https://localhost:8080/"
        },
        "outputId": "108a914c-ea93-4ce3-81a0-7c5206a17ed8"
      },
      "source": [
        "accuracy(Y_pred, Y_val)"
      ],
      "execution_count": 16,
      "outputs": [
        {
          "output_type": "stream",
          "name": "stdout",
          "text": [
            "Total Accuray :  0.925\n",
            "Accuray class 1 :  1.0\n",
            "Accuray class 4 :  0.9468085106382979\n",
            "Accuray class 7 :  0.9074074074074074\n",
            "Accuray class 9 :  0.845360824742268\n"
          ]
        },
        {
          "output_type": "execute_result",
          "data": {
            "text/plain": [
              "[0.925, 1.0, 0.9468085106382979, 0.9074074074074074, 0.845360824742268]"
            ]
          },
          "metadata": {},
          "execution_count": 16
        }
      ]
    },
    {
      "cell_type": "code",
      "metadata": {
        "id": "NLSImjxiweiV"
      },
      "source": [
        "precision, recall, f1_score = calculate_metrics(Y_pred, Y_val)"
      ],
      "execution_count": 17,
      "outputs": []
    },
    {
      "cell_type": "code",
      "metadata": {
        "colab": {
          "base_uri": "https://localhost:8080/"
        },
        "id": "3wAeIpChvn20",
        "outputId": "acdc0f18-1978-4e21-dab3-5122446ad8a6"
      },
      "source": [
        "# print(\"precision\", precision)\n",
        "# print(\"recall\", recall)\n",
        "# print(\"f1_score\", f1_score)"
      ],
      "execution_count": 18,
      "outputs": [
        {
          "output_type": "stream",
          "name": "stdout",
          "text": [
            "precision [0.925, 0.9351851851851852, 0.9175257731958762, 0.9423076923076923, 0.9010989010989011]\n",
            "recall [1.0, 1.0, 1.0, 1.0, 1.0]\n",
            "f1_score [0.961038961038961, 0.9665071770334929, 0.956989247311828, 0.9702970297029703, 0.9479768786127168]\n"
          ]
        }
      ]
    }
  ]
}